{
 "cells": [
  {
   "cell_type": "code",
   "execution_count": 2,
   "metadata": {},
   "outputs": [],
   "source": [
    "import optimizer\n",
    "import analysis\n",
    "\n",
    "import numpy as np\n",
    "import pandas as pd \n",
    "import matplotlib.pyplot as plt\n",
    "\n",
    "import os \n",
    "import sys \n",
    "# import matplotlib \n",
    "\n",
    "# plt.rcParams['figure.constrained_layout.use'] = True\n",
    "# matplotlib.rc('xtick', labelsize=10) \n",
    "# matplotlib.rc('ytick', labelsize=10) \n",
    "# matplotlib.rcParams.update({'font.size': 15})\n",
    "\n",
    "import warnings\n",
    "warnings.filterwarnings(\"ignore\")"
   ]
  },
  {
   "cell_type": "code",
   "execution_count": 14,
   "metadata": {},
   "outputs": [
    {
     "data": {
      "text/plain": [
       "30"
      ]
     },
     "execution_count": 14,
     "metadata": {},
     "output_type": "execute_result"
    }
   ],
   "source": [
    "# int(np.floor(duration_hour / delta_t))\n",
    "int(np.ceil(arrival_hour  / delta_t))"
   ]
  },
  {
   "cell_type": "code",
   "execution_count": 11,
   "metadata": {},
   "outputs": [
    {
     "name": "stderr",
     "output_type": "stream",
     "text": [
      "/Users/aysetugbaozturk/Documents/eCal/SlrpEV/pev-operation-hil/pev-operation-hil/scripts/Python Code/optimizer.py:427: VisibleDeprecationWarning: Creating an ndarray from ragged nested sequences (which is a list-or-tuple of lists-or-tuples-or ndarrays with different lengths or shapes) is deprecated. If you meant to do this, you must specify 'dtype=object' when creating the ndarray.\n",
      "  return  np.array([J_1 , J_2 , J_3])\n",
      "/Users/aysetugbaozturk/miniconda3/lib/python3.8/site-packages/cvxpy/expressions/expression.py:550: UserWarning: \n",
      "This use of ``*`` has resulted in matrix multiplication.\n",
      "Using ``*`` for matrix multiplication has been deprecated since CVXPY 1.1.\n",
      "    Use ``*`` for matrix-scalar and vector-scalar multiplication.\n",
      "    Use ``@`` for matrix-matrix and matrix-vector multiplication.\n",
      "    Use ``multiply`` for elementwise multiplication.\n",
      "\n",
      "  warnings.warn(__STAR_MATMUL_WARNING__, UserWarning)\n",
      "/Users/aysetugbaozturk/miniconda3/lib/python3.8/site-packages/cvxpy/interface/numpy_interface/ndarray_interface.py:47: DeprecationWarning: `np.complex` is a deprecated alias for the builtin `complex`. To silence this warning, use `complex` by itself. Doing this will not modify any behavior and is safe. If you specifically wanted the numpy scalar type, use `np.complex128` here.\n",
      "Deprecated in NumPy 1.20; for more details and guidance: https://numpy.org/devdocs/release/1.20.0-notes.html#deprecations\n",
      "  if result.dtype in [numpy.complex, numpy.float64]:\n",
      "/Users/aysetugbaozturk/miniconda3/lib/python3.8/site-packages/cvxpy/problems/problem.py:1060: UserWarning: Solution may be inaccurate. Try another solver, adjusting the solver settings, or solve with verbose=True for more information.\n",
      "  warnings.warn(\n"
     ]
    },
    {
     "name": "stdout",
     "output_type": "stream",
     "text": [
      "iter: 56 eps: -0.08815621695751474\n"
     ]
    }
   ],
   "source": [
    "# We define the timesteps in the app as 15 minute \n",
    "delta_t = 0.25 #hour\n",
    "\n",
    "################## Define the TOU Cost ##########################################\n",
    "## the TOU cost is defined considering the Ts below, if not it raises an error.##\n",
    "\n",
    "# off-peak 0.175  cents / kwh \n",
    "TOU_tariff = np.ones((96,)) * 17.5\n",
    "## 4 pm - 9 pm peak 0.367 cents / kwh \n",
    "TOU_tariff[64:84] = 36.7\n",
    "## 9 am - 2 pm super off-peak 0.49 $ / kWh  to cents / kwh\n",
    "TOU_tariff[36:56] = 14.9\n",
    "\n",
    "par = optimizer .Parameters(z0 = np.array([29,30,1,1]).reshape(4,1),\n",
    "                            Ts = delta_t,\n",
    "                            eff = 1.0 ,\n",
    "                            soft_v_eta = 1e-4,\n",
    "                            opt_eps = 0.0001,\n",
    "                            TOU = TOU_tariff) \n",
    "\n",
    "###### Define users problem ######\n",
    "\n",
    "# we receive signals as hours from the app\n",
    "arrival_hour = 7.5\n",
    "duration_hour = 3.33\n",
    "\n",
    "\n",
    "# \n",
    "event = {\n",
    "        \"time\" : arrival_hour, \n",
    "        \"e_need\": 8,\n",
    "        \"duration\" : duration_hour, # the slider allows 15 min increments \n",
    "        \"station_pow_max\" :  6.6, \n",
    "        \"user_power_rate\":3\n",
    "        }\n",
    "\n",
    "\n",
    "prb = optimizer .Problem(par = par, event = event)\n",
    "\n",
    "opt = optimizer .Optimization(par, prb)\n",
    "\n",
    "res = opt .run_opt()\n"
   ]
  },
  {
   "cell_type": "code",
   "execution_count": 12,
   "metadata": {},
   "outputs": [
    {
     "name": "stderr",
     "output_type": "stream",
     "text": [
      "/Users/aysetugbaozturk/miniconda3/lib/python3.8/site-packages/ipykernel/ipkernel.py:287: DeprecationWarning: `should_run_async` will not call `transform_cell` automatically in the future. Please pass the result to `transformed_cell` argument and any exception that happen during thetransform in `preprocessing_exc_tuple` in IPython 7.17 and above.\n",
      "  and should_run_async(code)\n"
     ]
    },
    {
     "ename": "ValueError",
     "evalue": "hour must be in 0..23",
     "output_type": "error",
     "traceback": [
      "\u001b[0;31m---------------------------------------------------------------------------\u001b[0m",
      "\u001b[0;31mValueError\u001b[0m                                Traceback (most recent call last)",
      "\u001b[0;32m<ipython-input-12-9927e63eba54>\u001b[0m in \u001b[0;36m<module>\u001b[0;34m\u001b[0m\n\u001b[1;32m      1\u001b[0m \u001b[0;31m# plot_power_energy(df_plot, prb, test, start_hour,start_minute,flex_end_hour ,flex_end_minute):\u001b[0m\u001b[0;34m\u001b[0m\u001b[0;34m\u001b[0m\u001b[0;34m\u001b[0m\u001b[0m\n\u001b[0;32m----> 2\u001b[0;31m \u001b[0manalysis\u001b[0m\u001b[0;34m.\u001b[0m\u001b[0mrecord_results\u001b[0m\u001b[0;34m(\u001b[0m\u001b[0mevent\u001b[0m\u001b[0;34m,\u001b[0m \u001b[0mpar\u001b[0m\u001b[0;34m,\u001b[0m \u001b[0mprb\u001b[0m\u001b[0;34m,\u001b[0m \u001b[0mopt\u001b[0m\u001b[0;34m,\u001b[0m \u001b[0mres\u001b[0m\u001b[0;34m,\u001b[0m \u001b[0;36m1\u001b[0m\u001b[0;34m,\u001b[0m \u001b[0mvis\u001b[0m \u001b[0;34m=\u001b[0m \u001b[0;32mTrue\u001b[0m\u001b[0;34m,\u001b[0m \u001b[0mresult_data\u001b[0m\u001b[0;34m=\u001b[0m\u001b[0;32mFalse\u001b[0m\u001b[0;34m)\u001b[0m\u001b[0;34m\u001b[0m\u001b[0;34m\u001b[0m\u001b[0m\n\u001b[0m",
      "\u001b[0;32m~/Documents/eCal/SlrpEV/pev-operation-hil/pev-operation-hil/scripts/Python Code/analysis.py\u001b[0m in \u001b[0;36mrecord_results\u001b[0;34m(event, par, prb, opt, res, test, vis, result_data)\u001b[0m\n\u001b[1;32m     94\u001b[0m \u001b[0;34m\u001b[0m\u001b[0m\n\u001b[1;32m     95\u001b[0m     \u001b[0;31m# Event parameters: arrival_time, soc_init, soc_need, departure\u001b[0m\u001b[0;34m\u001b[0m\u001b[0;34m\u001b[0m\u001b[0;34m\u001b[0m\u001b[0m\n\u001b[0;32m---> 96\u001b[0;31m     \u001b[0mopt_time_start\u001b[0m  \u001b[0;34m=\u001b[0m \u001b[0mpd\u001b[0m\u001b[0;34m.\u001b[0m\u001b[0mTimestamp\u001b[0m\u001b[0;34m(\u001b[0m\u001b[0myear\u001b[0m\u001b[0;34m=\u001b[0m\u001b[0;36m2021\u001b[0m\u001b[0;34m,\u001b[0m \u001b[0mmonth\u001b[0m\u001b[0;34m=\u001b[0m\u001b[0;36m1\u001b[0m\u001b[0;34m,\u001b[0m \u001b[0mday\u001b[0m\u001b[0;34m=\u001b[0m\u001b[0;36m1\u001b[0m\u001b[0;34m,\u001b[0m \u001b[0mhour\u001b[0m \u001b[0;34m=\u001b[0m \u001b[0mstart_hour\u001b[0m\u001b[0;34m,\u001b[0m \u001b[0mminute\u001b[0m \u001b[0;34m=\u001b[0m \u001b[0mstart_minute\u001b[0m\u001b[0;34m)\u001b[0m\u001b[0;34m\u001b[0m\u001b[0;34m\u001b[0m\u001b[0m\n\u001b[0m\u001b[1;32m     97\u001b[0m     \u001b[0mopt_time_end_flex\u001b[0m  \u001b[0;34m=\u001b[0m\u001b[0mpd\u001b[0m\u001b[0;34m.\u001b[0m\u001b[0mTimestamp\u001b[0m\u001b[0;34m(\u001b[0m\u001b[0myear\u001b[0m\u001b[0;34m=\u001b[0m\u001b[0;36m2021\u001b[0m\u001b[0;34m,\u001b[0m \u001b[0mmonth\u001b[0m\u001b[0;34m=\u001b[0m\u001b[0;36m1\u001b[0m\u001b[0;34m,\u001b[0m \u001b[0mday\u001b[0m\u001b[0;34m=\u001b[0m\u001b[0;36m1\u001b[0m\u001b[0;34m,\u001b[0m \u001b[0mhour\u001b[0m \u001b[0;34m=\u001b[0m \u001b[0mflex_end_hour\u001b[0m\u001b[0;34m,\u001b[0m  \u001b[0mminute\u001b[0m \u001b[0;34m=\u001b[0m \u001b[0mflex_end_minute\u001b[0m\u001b[0;34m)\u001b[0m\u001b[0;34m\u001b[0m\u001b[0;34m\u001b[0m\u001b[0m\n\u001b[1;32m     98\u001b[0m     \u001b[0mopt_time_end_asap\u001b[0m  \u001b[0;34m=\u001b[0m \u001b[0mpd\u001b[0m\u001b[0;34m.\u001b[0m\u001b[0mTimestamp\u001b[0m\u001b[0;34m(\u001b[0m\u001b[0myear\u001b[0m\u001b[0;34m=\u001b[0m\u001b[0;36m2021\u001b[0m\u001b[0;34m,\u001b[0m \u001b[0mmonth\u001b[0m\u001b[0;34m=\u001b[0m\u001b[0;36m1\u001b[0m\u001b[0;34m,\u001b[0m \u001b[0mday\u001b[0m\u001b[0;34m=\u001b[0m\u001b[0;36m1\u001b[0m\u001b[0;34m,\u001b[0m \u001b[0mhour\u001b[0m \u001b[0;34m=\u001b[0m \u001b[0masap_end_hour\u001b[0m\u001b[0;34m,\u001b[0m \u001b[0mminute\u001b[0m \u001b[0;34m=\u001b[0m \u001b[0masap_end_minute\u001b[0m\u001b[0;34m)\u001b[0m\u001b[0;34m\u001b[0m\u001b[0;34m\u001b[0m\u001b[0m\n",
      "\u001b[0;32m~/miniconda3/lib/python3.8/site-packages/pandas/_libs/tslibs/timestamps.pyx\u001b[0m in \u001b[0;36mpandas._libs.tslibs.timestamps.Timestamp.__new__\u001b[0;34m()\u001b[0m\n",
      "\u001b[0;31mValueError\u001b[0m: hour must be in 0..23"
     ]
    }
   ],
   "source": [
    "# plot_power_energy(df_plot, prb, test, start_hour,start_minute,flex_end_hour ,flex_end_minute):\n",
    "analysis.record_results(event, par, prb, opt, res, 1, vis = True, result_data=False)"
   ]
  },
  {
   "cell_type": "code",
   "execution_count": 9,
   "metadata": {},
   "outputs": [
    {
     "data": {
      "text/plain": [
       "(119.0, 168.0)"
      ]
     },
     "execution_count": 9,
     "metadata": {},
     "output_type": "execute_result"
    }
   ],
   "source": [
    "np.round(res['z_hr'][0]) ,np.round(res['z_hr'][1])"
   ]
  },
  {
   "cell_type": "code",
   "execution_count": 10,
   "metadata": {},
   "outputs": [
    {
     "data": {
      "text/plain": [
       "array([ -15.15      ,  -63.16730401,  -65.80635377,  -67.80625825,\n",
       "        -70.19816146,  -72.50063896,  -74.15712531,  -76.23834168,\n",
       "        -78.21488   ,  -80.20403661,  -82.67753648,  -85.0457758 ,\n",
       "        -86.24424716,  -88.07607632,  -89.7593913 ,  -91.45383833,\n",
       "        -93.15740404,  -94.69704622,  -96.24691144,  -97.80645949,\n",
       "        -98.63887613, -100.09517953, -101.51351529, -102.94036461,\n",
       "       -104.37660952, -105.65078275, -106.9353588 , -108.816183  ,\n",
       "       -110.03891015, -111.34929112, -112.49815765, -113.65730374,\n",
       "       -114.8269997 , -116.64408819, -117.6932875 , -118.88700399,\n",
       "       -119.2111204 , -120.29738026, -121.35098422, -122.41518327,\n",
       "       -123.48079754, -124.55657854, -125.64258293, -126.56566024,\n",
       "       -127.49887979, -128.44248835, -129.39664039, -129.52061541,\n",
       "       -129.6378556 , -130.61023737, -131.59332407, -133.39568854,\n",
       "       -134.25288446, -135.09108996, -135.93962561, -136.79878335])"
      ]
     },
     "execution_count": 10,
     "metadata": {},
     "output_type": "execute_result"
    }
   ],
   "source": [
    "res[\"J\"]"
   ]
  },
  {
   "cell_type": "code",
   "execution_count": null,
   "metadata": {},
   "outputs": [],
   "source": []
  },
  {
   "cell_type": "code",
   "execution_count": null,
   "metadata": {},
   "outputs": [],
   "source": []
  }
 ],
 "metadata": {
  "kernelspec": {
   "display_name": "Python 3",
   "language": "python",
   "name": "python3"
  },
  "language_info": {
   "codemirror_mode": {
    "name": "ipython",
    "version": 3
   },
   "file_extension": ".py",
   "mimetype": "text/x-python",
   "name": "python",
   "nbconvert_exporter": "python",
   "pygments_lexer": "ipython3",
   "version": "3.8.3"
  }
 },
 "nbformat": 4,
 "nbformat_minor": 4
}
