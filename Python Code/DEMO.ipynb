{
 "cells": [
  {
   "cell_type": "code",
   "execution_count": 2,
   "metadata": {},
   "outputs": [],
   "source": [
    "import optimizer # optimizer.py file\n",
    "\n",
    "import analysis # visualization \n",
    "import numpy as np\n",
    "import pandas as pd \n",
    "import matplotlib.pyplot as plt\n",
    "\n",
    "import os \n",
    "import sys \n",
    "\n",
    "import warnings\n",
    "warnings.filterwarnings(\"ignore\")"
   ]
  },
  {
   "cell_type": "code",
   "execution_count": null,
   "metadata": {},
   "outputs": [],
   "source": []
  },
  {
   "cell_type": "code",
   "execution_count": 36,
   "metadata": {},
   "outputs": [
    {
     "name": "stdout",
     "output_type": "stream",
     "text": [
      "For delta_t:  0.25 max number of intervals: 96.0\n",
      "28\n",
      "96\n",
      "10.5\n"
     ]
    },
    {
     "name": "stderr",
     "output_type": "stream",
     "text": [
      "/Users/aysetugbaozturk/Documents/eCal/SlrpEV/pev-operation-hil/pev-operation-hil/scripts/Python Code/optimizer.py:425: VisibleDeprecationWarning: Creating an ndarray from ragged nested sequences (which is a list-or-tuple of lists-or-tuples-or ndarrays with different lengths or shapes) is deprecated. If you meant to do this, you must specify 'dtype=object' when creating the ndarray.\n",
      "  return  np.array([J_1 , J_2 , J_3])\n",
      "/Users/aysetugbaozturk/miniconda3/lib/python3.8/site-packages/cvxpy/expressions/expression.py:550: UserWarning: \n",
      "This use of ``*`` has resulted in matrix multiplication.\n",
      "Using ``*`` for matrix multiplication has been deprecated since CVXPY 1.1.\n",
      "    Use ``*`` for matrix-scalar and vector-scalar multiplication.\n",
      "    Use ``@`` for matrix-matrix and matrix-vector multiplication.\n",
      "    Use ``multiply`` for elementwise multiplication.\n",
      "\n",
      "  warnings.warn(__STAR_MATMUL_WARNING__, UserWarning)\n",
      "/Users/aysetugbaozturk/miniconda3/lib/python3.8/site-packages/cvxpy/interface/numpy_interface/ndarray_interface.py:47: DeprecationWarning: `np.complex` is a deprecated alias for the builtin `complex`. To silence this warning, use `complex` by itself. Doing this will not modify any behavior and is safe. If you specifically wanted the numpy scalar type, use `np.complex128` here.\n",
      "Deprecated in NumPy 1.20; for more details and guidance: https://numpy.org/devdocs/release/1.20.0-notes.html#deprecations\n",
      "  if result.dtype in [numpy.complex, numpy.float64]:\n",
      "/Users/aysetugbaozturk/miniconda3/lib/python3.8/site-packages/cvxpy/problems/problem.py:1060: UserWarning: Solution may be inaccurate. Try another solver, adjusting the solver settings, or solve with verbose=True for more information.\n",
      "  warnings.warn(\n"
     ]
    },
    {
     "name": "stdout",
     "output_type": "stream",
     "text": [
      "13 -0.33475956685987285\n"
     ]
    }
   ],
   "source": [
    "# We define the timesteps in the APP as 15 minute \n",
    "delta_t = 0.25 #hour \n",
    "print(\"For delta_t: \",delta_t, \"max number of intervals:\",24/delta_t)\n",
    "################## Define the TOU Cost ##########################################\n",
    "## the TOU cost is defined considering the delta_t above, if not code raises an error.##\n",
    "\n",
    "# off-peak 0.175  cents / kwh \n",
    "TOU_tariff = np.ones((96,)) * 17.5\n",
    "## 4 pm - 9 pm peak 0.367 cents / kwh \n",
    "TOU_tariff[64:84] = 36.7\n",
    "## 9 am - 2 pm super off-peak 0.49 $ / kWh  to cents / kwh\n",
    "TOU_tariff[36:56] = 14.9\n",
    "\n",
    "\n",
    "par = optimizer .Parameters(z0 = np.array([20,20,1,1]).reshape(4,1),   #due to local optimality, we can try multiple starts\n",
    "                            Ts = delta_t,\n",
    "                            eff = 1.0 ,\n",
    "                            soft_v_eta = 1e-4,\n",
    "                            opt_eps = 0.0001,\n",
    "                            TOU = TOU_tariff) \n",
    "\n",
    "###### Define users problem ######\n",
    "\n",
    "# we receive signals as hours from the app\n",
    "arrival_hour = 7.25\n",
    "duration_hour = 24\n",
    "\n",
    "\n",
    "event = {\n",
    "        \"time\" : int(arrival_hour / delta_t),  # INTERVAL \n",
    "        \"e_need\": 10.5, # FLOAT \n",
    "        \"duration\" :int(duration_hour / delta_t), # the slider allows 15 min increments INT\n",
    "        \"station_pow_max\"   : 6.6, \n",
    "        \"user_power_rate\":100\n",
    "        }\n",
    "\n",
    "\n",
    "print(event['time'])\n",
    "print(event['duration'])\n",
    "print(event['e_need'])\n",
    "\n",
    "\n",
    "prb = optimizer .Problem(par = par, event = event)\n",
    "\n",
    "opt = optimizer .Optimization(par, prb)\n",
    "\n",
    "res = opt .run_opt()\n"
   ]
  },
  {
   "cell_type": "code",
   "execution_count": 37,
   "metadata": {},
   "outputs": [
    {
     "name": "stdout",
     "output_type": "stream",
     "text": [
      "SCH Tariff (cents/hr): 134.0 \n",
      "REG Tariff (cents/hr): 143.0\n"
     ]
    },
    {
     "name": "stderr",
     "output_type": "stream",
     "text": [
      "/Users/aysetugbaozturk/miniconda3/lib/python3.8/site-packages/ipykernel/ipkernel.py:287: DeprecationWarning: `should_run_async` will not call `transform_cell` automatically in the future. Please pass the result to `transformed_cell` argument and any exception that happen during thetransform in `preprocessing_exc_tuple` in IPython 7.17 and above.\n",
      "  and should_run_async(code)\n"
     ]
    }
   ],
   "source": [
    "print(\"SCH Tariff (cents/hr):\", np.round(res['z_hr'][0]) ,\"\\nREG Tariff (cents/hr):\" ,np.round(res['z_hr'][1]))"
   ]
  },
  {
   "cell_type": "code",
   "execution_count": 31,
   "metadata": {},
   "outputs": [],
   "source": [
    "# plot_power_energy(df_plot, prb, test, start_hour,start_minute,flex_end_hour ,flex_end_minute):\n",
    "# analysis.record_results(event, par, prb, opt, res, 1, vis = True, result_data=False)"
   ]
  },
  {
   "cell_type": "code",
   "execution_count": null,
   "metadata": {},
   "outputs": [],
   "source": []
  },
  {
   "cell_type": "code",
   "execution_count": 21,
   "metadata": {},
   "outputs": [],
   "source": [
    "def calculate_probability(z_reg, z_sch):\n",
    "    u_reg =  0.3411 -0.0184*(z_reg - z_sch)*.5\n",
    "    u_sch = 0.0184*(z_reg - z_sch)*.5\n",
    "    u_leave = -1. + 0.005*(np.mean([z_sch, z_reg]))\n",
    "\n",
    "    \n",
    "    denom = np.exp(u_reg) + np.exp(u_sch) + np.exp(u_leave)\n",
    "\n",
    "    p_reg = np.exp(u_reg) / denom\n",
    "    p_sch = np.exp(u_sch) / denom\n",
    "    p_leave = np.exp(u_leave) / denom\n",
    "    print(u_reg, u_sch, u_leave)\n",
    "    return p_reg, p_sch, p_leave "
   ]
  },
  {
   "cell_type": "code",
   "execution_count": 16,
   "metadata": {},
   "outputs": [
    {
     "name": "stdout",
     "output_type": "stream",
     "text": [
      "0.25830000000000003 0.0828 -0.3075\n"
     ]
    },
    {
     "data": {
      "text/plain": [
       "(0.41546475523589854, 0.3485904668504385, 0.23594477791366306)"
      ]
     },
     "execution_count": 16,
     "metadata": {},
     "output_type": "execute_result"
    }
   ],
   "source": [
    "calculate_probability(143, 134)"
   ]
  },
  {
   "cell_type": "code",
   "execution_count": 17,
   "metadata": {},
   "outputs": [
    {
     "data": {
      "text/plain": [
       "array([ -8.749125  , -30.63677031, -31.85000587, -32.93886046,\n",
       "       -34.42583779, -35.14246509, -35.8510344 , -36.43343339,\n",
       "       -36.88993195, -37.35224462, -37.68844942, -38.02990502,\n",
       "       -38.37604445])"
      ]
     },
     "execution_count": 17,
     "metadata": {},
     "output_type": "execute_result"
    }
   ],
   "source": [
    "res['J']"
   ]
  },
  {
   "cell_type": "code",
   "execution_count": null,
   "metadata": {},
   "outputs": [],
   "source": []
  }
 ],
 "metadata": {
  "kernelspec": {
   "display_name": "Python 3",
   "language": "python",
   "name": "python3"
  },
  "language_info": {
   "codemirror_mode": {
    "name": "ipython",
    "version": 3
   },
   "file_extension": ".py",
   "mimetype": "text/x-python",
   "name": "python",
   "nbconvert_exporter": "python",
   "pygments_lexer": "ipython3",
   "version": "3.8.3"
  }
 },
 "nbformat": 4,
 "nbformat_minor": 4
}
